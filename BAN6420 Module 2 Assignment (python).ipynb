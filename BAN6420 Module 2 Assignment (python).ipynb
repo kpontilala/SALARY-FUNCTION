{
 "cells": [
  {
   "cell_type": "markdown",
   "id": "59401dee",
   "metadata": {},
   "source": [
    "# BAN 6420 Module 2 Assignment\n",
    "\n",
    "### Salary Function\n",
    "\n",
    "##### In this program we will create a salary function that throws out the details of each employee by inputting their name and data processing using dictionary function."
   ]
  },
  {
   "cell_type": "code",
   "execution_count": 1,
   "id": "832cc0e8",
   "metadata": {},
   "outputs": [],
   "source": [
    "# import the necessary packages\n",
    "\n",
    "import pandas as pd\n",
    "import numpy as np\n",
    "import zipfile\n",
    "import csv"
   ]
  },
  {
   "cell_type": "code",
   "execution_count": 2,
   "id": "ae209504",
   "metadata": {},
   "outputs": [
    {
     "name": "stderr",
     "output_type": "stream",
     "text": [
      "C:\\Users\\emman\\AppData\\Local\\Temp\\ipykernel_58276\\365147737.py:3: DtypeWarning: Columns (2,3,4,5) have mixed types. Specify dtype option on import or set low_memory=False.\n",
      "  df = pd.read_csv('Salarydetails.csv')\n"
     ]
    }
   ],
   "source": [
    "# importing our salary data using read_csv()\n",
    "\n",
    "df = pd.read_csv('Salarydetails.csv')"
   ]
  },
  {
   "cell_type": "code",
   "execution_count": 3,
   "id": "d89ce3cb",
   "metadata": {},
   "outputs": [
    {
     "data": {
      "text/html": [
       "<div>\n",
       "<style scoped>\n",
       "    .dataframe tbody tr th:only-of-type {\n",
       "        vertical-align: middle;\n",
       "    }\n",
       "\n",
       "    .dataframe tbody tr th {\n",
       "        vertical-align: top;\n",
       "    }\n",
       "\n",
       "    .dataframe thead th {\n",
       "        text-align: right;\n",
       "    }\n",
       "</style>\n",
       "<table border=\"1\" class=\"dataframe\">\n",
       "  <thead>\n",
       "    <tr style=\"text-align: right;\">\n",
       "      <th></th>\n",
       "      <th>EmployeeName</th>\n",
       "      <th>JobTitle</th>\n",
       "      <th>BasePay</th>\n",
       "      <th>OvertimePay</th>\n",
       "      <th>OtherPay</th>\n",
       "      <th>Benefits</th>\n",
       "      <th>TotalPay</th>\n",
       "      <th>TotalPayBenefits</th>\n",
       "      <th>Year</th>\n",
       "    </tr>\n",
       "  </thead>\n",
       "  <tbody>\n",
       "    <tr>\n",
       "      <th>0</th>\n",
       "      <td>NATHANIEL FORD</td>\n",
       "      <td>GENERAL MANAGER-METROPOLITAN TRANSIT AUTHORITY</td>\n",
       "      <td>167411.18</td>\n",
       "      <td>0.0</td>\n",
       "      <td>400184.25</td>\n",
       "      <td>Not Provided</td>\n",
       "      <td>567595.43</td>\n",
       "      <td>567595.43</td>\n",
       "      <td>2011</td>\n",
       "    </tr>\n",
       "    <tr>\n",
       "      <th>1</th>\n",
       "      <td>GARY JIMENEZ</td>\n",
       "      <td>CAPTAIN III (POLICE DEPARTMENT)</td>\n",
       "      <td>155966.02</td>\n",
       "      <td>245131.88</td>\n",
       "      <td>137811.38</td>\n",
       "      <td>Not Provided</td>\n",
       "      <td>538909.28</td>\n",
       "      <td>538909.28</td>\n",
       "      <td>2011</td>\n",
       "    </tr>\n",
       "    <tr>\n",
       "      <th>2</th>\n",
       "      <td>ALBERT PARDINI</td>\n",
       "      <td>CAPTAIN III (POLICE DEPARTMENT)</td>\n",
       "      <td>212739.13</td>\n",
       "      <td>106088.18</td>\n",
       "      <td>16452.6</td>\n",
       "      <td>Not Provided</td>\n",
       "      <td>335279.91</td>\n",
       "      <td>335279.91</td>\n",
       "      <td>2011</td>\n",
       "    </tr>\n",
       "    <tr>\n",
       "      <th>3</th>\n",
       "      <td>CHRISTOPHER CHONG</td>\n",
       "      <td>WIRE ROPE CABLE MAINTENANCE MECHANIC</td>\n",
       "      <td>77916.0</td>\n",
       "      <td>56120.71</td>\n",
       "      <td>198306.9</td>\n",
       "      <td>Not Provided</td>\n",
       "      <td>332343.61</td>\n",
       "      <td>332343.61</td>\n",
       "      <td>2011</td>\n",
       "    </tr>\n",
       "    <tr>\n",
       "      <th>4</th>\n",
       "      <td>PATRICK GARDNER</td>\n",
       "      <td>DEPUTY CHIEF OF DEPARTMENT,(FIRE DEPARTMENT)</td>\n",
       "      <td>134401.6</td>\n",
       "      <td>9737.0</td>\n",
       "      <td>182234.59</td>\n",
       "      <td>Not Provided</td>\n",
       "      <td>326373.19</td>\n",
       "      <td>326373.19</td>\n",
       "      <td>2011</td>\n",
       "    </tr>\n",
       "  </tbody>\n",
       "</table>\n",
       "</div>"
      ],
      "text/plain": [
       "        EmployeeName                                        JobTitle  \\\n",
       "0     NATHANIEL FORD  GENERAL MANAGER-METROPOLITAN TRANSIT AUTHORITY   \n",
       "1       GARY JIMENEZ                 CAPTAIN III (POLICE DEPARTMENT)   \n",
       "2     ALBERT PARDINI                 CAPTAIN III (POLICE DEPARTMENT)   \n",
       "3  CHRISTOPHER CHONG            WIRE ROPE CABLE MAINTENANCE MECHANIC   \n",
       "4    PATRICK GARDNER    DEPUTY CHIEF OF DEPARTMENT,(FIRE DEPARTMENT)   \n",
       "\n",
       "     BasePay OvertimePay   OtherPay      Benefits   TotalPay  \\\n",
       "0  167411.18         0.0  400184.25  Not Provided  567595.43   \n",
       "1  155966.02   245131.88  137811.38  Not Provided  538909.28   \n",
       "2  212739.13   106088.18    16452.6  Not Provided  335279.91   \n",
       "3    77916.0    56120.71   198306.9  Not Provided  332343.61   \n",
       "4   134401.6      9737.0  182234.59  Not Provided  326373.19   \n",
       "\n",
       "   TotalPayBenefits  Year  \n",
       "0         567595.43  2011  \n",
       "1         538909.28  2011  \n",
       "2         335279.91  2011  \n",
       "3         332343.61  2011  \n",
       "4         326373.19  2011  "
      ]
     },
     "execution_count": 3,
     "metadata": {},
     "output_type": "execute_result"
    }
   ],
   "source": [
    "df.head()"
   ]
  },
  {
   "cell_type": "code",
   "execution_count": 4,
   "id": "d0372508",
   "metadata": {},
   "outputs": [
    {
     "name": "stdout",
     "output_type": "stream",
     "text": [
      "<class 'pandas.core.frame.DataFrame'>\n",
      "RangeIndex: 312882 entries, 0 to 312881\n",
      "Data columns (total 9 columns):\n",
      " #   Column            Non-Null Count   Dtype  \n",
      "---  ------            --------------   -----  \n",
      " 0   EmployeeName      312882 non-null  object \n",
      " 1   JobTitle          312882 non-null  object \n",
      " 2   BasePay           312882 non-null  object \n",
      " 3   OvertimePay       312882 non-null  object \n",
      " 4   OtherPay          312882 non-null  object \n",
      " 5   Benefits          312882 non-null  object \n",
      " 6   TotalPay          312882 non-null  float64\n",
      " 7   TotalPayBenefits  312882 non-null  float64\n",
      " 8   Year              312882 non-null  int64  \n",
      "dtypes: float64(2), int64(1), object(6)\n",
      "memory usage: 21.5+ MB\n"
     ]
    }
   ],
   "source": [
    "#check to see if there is any null values\n",
    "df.info() "
   ]
  },
  {
   "cell_type": "code",
   "execution_count": 5,
   "id": "ca2169f8",
   "metadata": {},
   "outputs": [
    {
     "data": {
      "text/plain": [
       "0             NATHANIEL FORD\n",
       "1               GARY JIMENEZ\n",
       "2             ALBERT PARDINI\n",
       "3          CHRISTOPHER CHONG\n",
       "4            PATRICK GARDNER\n",
       "                 ...        \n",
       "312877       Daniel W Plautz\n",
       "312878      David J Thompson\n",
       "312879    Keiko Weng Yee Lau\n",
       "312880            David Wong\n",
       "312881       Debora E Howard\n",
       "Name: EmployeeName, Length: 312882, dtype: object"
      ]
     },
     "execution_count": 5,
     "metadata": {},
     "output_type": "execute_result"
    }
   ],
   "source": [
    "#check to see the employee names\n",
    "df.get('EmployeeName')"
   ]
  },
  {
   "cell_type": "code",
   "execution_count": 6,
   "id": "0d3ae2f7",
   "metadata": {},
   "outputs": [],
   "source": [
    "#create a function that takes employee name as an input to retrieve their details\n",
    "\n",
    "def get_employee_details():\n",
    "    employee_name=input()  #input function\n",
    "    \n",
    "    try:\n",
    "        if employee_name in df['EmployeeName'].values:\n",
    "            name=df[df['EmployeeName']==employee_name]\n",
    "            return name\n",
    "        else:\n",
    "            return (f\"No record found for : {employee_name}\")\n",
    "    \n",
    "    except Exception as e:\n",
    "        return (f\" oops, an error has occurred\")"
   ]
  },
  {
   "cell_type": "code",
   "execution_count": 7,
   "id": "b8f921a3",
   "metadata": {},
   "outputs": [
    {
     "name": "stdout",
     "output_type": "stream",
     "text": [
      "ALBERT PARDINI\n"
     ]
    },
    {
     "data": {
      "text/html": [
       "<div>\n",
       "<style scoped>\n",
       "    .dataframe tbody tr th:only-of-type {\n",
       "        vertical-align: middle;\n",
       "    }\n",
       "\n",
       "    .dataframe tbody tr th {\n",
       "        vertical-align: top;\n",
       "    }\n",
       "\n",
       "    .dataframe thead th {\n",
       "        text-align: right;\n",
       "    }\n",
       "</style>\n",
       "<table border=\"1\" class=\"dataframe\">\n",
       "  <thead>\n",
       "    <tr style=\"text-align: right;\">\n",
       "      <th></th>\n",
       "      <th>EmployeeName</th>\n",
       "      <th>JobTitle</th>\n",
       "      <th>BasePay</th>\n",
       "      <th>OvertimePay</th>\n",
       "      <th>OtherPay</th>\n",
       "      <th>Benefits</th>\n",
       "      <th>TotalPay</th>\n",
       "      <th>TotalPayBenefits</th>\n",
       "      <th>Year</th>\n",
       "    </tr>\n",
       "  </thead>\n",
       "  <tbody>\n",
       "    <tr>\n",
       "      <th>2</th>\n",
       "      <td>ALBERT PARDINI</td>\n",
       "      <td>CAPTAIN III (POLICE DEPARTMENT)</td>\n",
       "      <td>212739.13</td>\n",
       "      <td>106088.18</td>\n",
       "      <td>16452.6</td>\n",
       "      <td>Not Provided</td>\n",
       "      <td>335279.91</td>\n",
       "      <td>335279.91</td>\n",
       "      <td>2011</td>\n",
       "    </tr>\n",
       "  </tbody>\n",
       "</table>\n",
       "</div>"
      ],
      "text/plain": [
       "     EmployeeName                         JobTitle    BasePay OvertimePay  \\\n",
       "2  ALBERT PARDINI  CAPTAIN III (POLICE DEPARTMENT)  212739.13   106088.18   \n",
       "\n",
       "  OtherPay      Benefits   TotalPay  TotalPayBenefits  Year  \n",
       "2  16452.6  Not Provided  335279.91         335279.91  2011  "
      ]
     },
     "execution_count": 7,
     "metadata": {},
     "output_type": "execute_result"
    }
   ],
   "source": [
    "get_employee_details()"
   ]
  },
  {
   "cell_type": "code",
   "execution_count": 9,
   "id": "5f0ddead",
   "metadata": {},
   "outputs": [],
   "source": [
    "#converting our dataframe to dictionary for processing:\n",
    "df_dict= df.to_dict('records')"
   ]
  },
  {
   "cell_type": "code",
   "execution_count": 10,
   "id": "123858a1",
   "metadata": {},
   "outputs": [
    {
     "name": "stdout",
     "output_type": "stream",
     "text": [
      "[{'EmployeeName': 'NATHANIEL FORD', 'JobTitle': 'GENERAL MANAGER-METROPOLITAN TRANSIT AUTHORITY', 'BasePay': 167411.18, 'OvertimePay': 0.0, 'OtherPay': 400184.25, 'Benefits': 'Not Provided', 'TotalPay': 567595.43, 'TotalPayBenefits': 567595.43, 'Year': 2011}, {'EmployeeName': 'GARY JIMENEZ', 'JobTitle': 'CAPTAIN III (POLICE DEPARTMENT)', 'BasePay': 155966.02, 'OvertimePay': 245131.88, 'OtherPay': 137811.38, 'Benefits': 'Not Provided', 'TotalPay': 538909.28, 'TotalPayBenefits': 538909.28, 'Year': 2011}, {'EmployeeName': 'ALBERT PARDINI', 'JobTitle': 'CAPTAIN III (POLICE DEPARTMENT)', 'BasePay': 212739.13, 'OvertimePay': 106088.18, 'OtherPay': 16452.6, 'Benefits': 'Not Provided', 'TotalPay': 335279.91, 'TotalPayBenefits': 335279.91, 'Year': 2011}, {'EmployeeName': 'CHRISTOPHER CHONG', 'JobTitle': 'WIRE ROPE CABLE MAINTENANCE MECHANIC', 'BasePay': 77916.0, 'OvertimePay': 56120.71, 'OtherPay': 198306.9, 'Benefits': 'Not Provided', 'TotalPay': 332343.61, 'TotalPayBenefits': 332343.61, 'Year': 2011}, {'EmployeeName': 'PATRICK GARDNER', 'JobTitle': 'DEPUTY CHIEF OF DEPARTMENT,(FIRE DEPARTMENT)', 'BasePay': 134401.6, 'OvertimePay': 9737.0, 'OtherPay': 182234.59, 'Benefits': 'Not Provided', 'TotalPay': 326373.19, 'TotalPayBenefits': 326373.19, 'Year': 2011}]\n"
     ]
    }
   ],
   "source": [
    "#printing a sample of the first five records of our dictionary\n",
    "print(df_dict[0:5])"
   ]
  },
  {
   "cell_type": "code",
   "execution_count": 11,
   "id": "2ea7e8d3",
   "metadata": {},
   "outputs": [
    {
     "name": "stdout",
     "output_type": "stream",
     "text": [
      "{'EmployeeName': 'PATRICK GARDNER', 'JobTitle': 'DEPUTY CHIEF OF DEPARTMENT,(FIRE DEPARTMENT)', 'BasePay': 134401.6, 'OvertimePay': 9737.0, 'OtherPay': 182234.59, 'Benefits': 'Not Provided', 'TotalPay': 326373.19, 'TotalPayBenefits': 326373.19, 'Year': 2011}\n"
     ]
    }
   ],
   "source": [
    "#retrieving an employee's details from our dictionary through several means\n",
    "\n",
    "fifth_employee= df_dict[4] #retrieving via indexing\n",
    "print(fifth_employee)"
   ]
  },
  {
   "cell_type": "code",
   "execution_count": 15,
   "id": "3b94b45f",
   "metadata": {},
   "outputs": [],
   "source": [
    "#retrieving via a function that takes the employees name\n",
    "\n",
    "def get_workers_details(worker_name):  \n",
    "    \n",
    "    try:\n",
    "        for worker in df_dict:\n",
    "            if worker_name.lower() in worker['EmployeeName'].lower():\n",
    "                return worker\n",
    "        return {\"error\": \"Employee not found.\"}\n",
    "    \n",
    "    except TypeError:\n",
    "        return (f\"oops an error occured, Ensure your dict and strings are properly called\")\n"
   ]
  },
  {
   "cell_type": "code",
   "execution_count": 16,
   "id": "7d2342c7",
   "metadata": {},
   "outputs": [
    {
     "name": "stdout",
     "output_type": "stream",
     "text": [
      "{'EmployeeName': 'NATHANIEL FORD', 'JobTitle': 'GENERAL MANAGER-METROPOLITAN TRANSIT AUTHORITY', 'BasePay': 167411.18, 'OvertimePay': 0.0, 'OtherPay': 400184.25, 'Benefits': 'Not Provided', 'TotalPay': 567595.43, 'TotalPayBenefits': 567595.43, 'Year': 2011}\n"
     ]
    }
   ],
   "source": [
    "worker_name= \"nathaniel ford\"\n",
    "worker_details = get_workers_details(worker_name)\n",
    "print(worker_details)"
   ]
  },
  {
   "cell_type": "code",
   "execution_count": 17,
   "id": "5f6918db",
   "metadata": {},
   "outputs": [],
   "source": [
    "#We want to export the employee details to a csv file.\n",
    "\n",
    "df_dict=pd.DataFrame(worker_details, index=[0]) #first convert to a dataframe\n",
    "df_dict.to_csv('EmployeeDetails.csv', index=False, header=True) #Then export to csv file"
   ]
  },
  {
   "cell_type": "code",
   "execution_count": 18,
   "id": "4de47dda",
   "metadata": {},
   "outputs": [],
   "source": [
    "#Exporting the csv to a zip folder\n",
    "\n",
    "zip_folder= zipfile.ZipFile('EmployeeProfile.zip', 'w')\n",
    "zip_folder.write('EmployeeDetails.csv')\n",
    "\n",
    "zip_folder.close()"
   ]
  },
  {
   "cell_type": "code",
   "execution_count": null,
   "id": "210bc04c",
   "metadata": {},
   "outputs": [],
   "source": []
  }
 ],
 "metadata": {
  "kernelspec": {
   "display_name": "Python 3 (ipykernel)",
   "language": "python",
   "name": "python3"
  },
  "language_info": {
   "codemirror_mode": {
    "name": "ipython",
    "version": 3
   },
   "file_extension": ".py",
   "mimetype": "text/x-python",
   "name": "python",
   "nbconvert_exporter": "python",
   "pygments_lexer": "ipython3",
   "version": "3.9.13"
  }
 },
 "nbformat": 4,
 "nbformat_minor": 5
}
